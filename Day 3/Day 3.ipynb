{
 "cells": [
  {
   "cell_type": "markdown",
   "metadata": {},
   "source": [
    "# Data Science 101 B1"
   ]
  },
  {
   "cell_type": "markdown",
   "metadata": {},
   "source": [
    "## Day 3 Assignment"
   ]
  },
  {
   "cell_type": "markdown",
   "metadata": {},
   "source": [
    "### Import"
   ]
  },
  {
   "cell_type": "code",
   "execution_count": 1,
   "metadata": {},
   "outputs": [],
   "source": [
    "import numpy as np"
   ]
  },
  {
   "cell_type": "markdown",
   "metadata": {},
   "source": [
    "### Questions 1:\n",
    "\n",
    "**Create a numpy array starting from 2 till 50 with a stepsize of 3.**"
   ]
  },
  {
   "cell_type": "code",
   "execution_count": 2,
   "metadata": {},
   "outputs": [
    {
     "name": "stdout",
     "output_type": "stream",
     "text": [
      "[ 2  5  8 11 14 17 20 23 26 29 32 35 38 41 44 47 50]\n"
     ]
    }
   ],
   "source": [
    "print(np.arange(2,51,3))"
   ]
  },
  {
   "cell_type": "markdown",
   "metadata": {},
   "source": [
    "### Questions 2:\n",
    "\n",
    "**Accept two lists of 5 elements each from the user.\n",
    "Convert them to numpy arrays. Concatenate these arrays and print it. Also sort these arrays and print it.**"
   ]
  },
  {
   "cell_type": "code",
   "execution_count": 3,
   "metadata": {
    "scrolled": false
   },
   "outputs": [
    {
     "name": "stdout",
     "output_type": "stream",
     "text": [
      "Number of elements :5\n",
      "1\n",
      "4\n",
      "7\n",
      "9\n",
      "5\n",
      "2\n",
      "3\n",
      "8\n",
      "0\n",
      "6\n",
      "\n",
      "Accepted arrays :\n",
      " [1 7 5 3 0] \n",
      "\n",
      " [4 9 2 8 6]\n",
      "<class 'numpy.ndarray'> <class 'numpy.ndarray'>\n",
      "Concatenate : [1 7 5 3 0 4 9 2 8 6]\n",
      "\n",
      "Sorted arrays :\n",
      "\n",
      " [0 1 3 5 7] \n",
      "\n",
      " [2 4 6 8 9]\n"
     ]
    }
   ],
   "source": [
    "list_a = []\n",
    "list_b = []\n",
    "n = int(input(\"Number of elements :\"))\n",
    "\n",
    "for i in range(0,n):\n",
    "    ele_a = int(input())\n",
    "    ele_b = int(input())\n",
    "    \n",
    "    list_a.append(ele_a)\n",
    "    list_b.append(ele_b)\n",
    "    \n",
    "array_a , array_b = np.array(list_a) , np.array(list_b)\n",
    "\n",
    "array_a , array_b = array_a.astype(np.int32) , array_b.astype(np.int32)\n",
    "\n",
    "print('\\nAccepted arrays :\\n',array_a,'\\n\\n',array_b)\n",
    "print(type(array_a),type(array_b))\n",
    "\n",
    "con_array = np.concatenate((array_a,array_b))\n",
    "print(\"Concatenate :\",con_array)\n",
    "\n",
    "print(\"\\nSorted arrays :\\n\\n\",np.sort(array_a),'\\n\\n',np.sort(array_b))"
   ]
  },
  {
   "cell_type": "markdown",
   "metadata": {},
   "source": [
    "### Questions 3:\n",
    "\n",
    "**Write a code snippet to find the dimensions of a ndarray and its size.**"
   ]
  },
  {
   "cell_type": "code",
   "execution_count": 4,
   "metadata": {},
   "outputs": [
    {
     "name": "stdout",
     "output_type": "stream",
     "text": [
      "Dimension (5,)\n",
      "Size 5\n"
     ]
    }
   ],
   "source": [
    "arr = np.array([1,2,3,4,5])\n",
    "print(\"Dimension\",arr.shape)\n",
    "print(\"Size\",arr.size)"
   ]
  },
  {
   "cell_type": "markdown",
   "metadata": {},
   "source": [
    "### Questions 4:\n",
    "\n",
    "**How to convert a 1D array into a 2D array? Demonstrate with the help of a code snippet\n",
    "Hint: np.newaxis, np.expand_dims**"
   ]
  },
  {
   "cell_type": "code",
   "execution_count": 5,
   "metadata": {},
   "outputs": [
    {
     "name": "stdout",
     "output_type": "stream",
     "text": [
      "1-D Array : [ 1  2  3  4  5  6  7  8  9 10]\n",
      "\n",
      "1-D Array converted to 2-D Array :\n",
      " [[ 1  2]\n",
      " [ 3  4]\n",
      " [ 5  6]\n",
      " [ 7  8]\n",
      " [ 9 10]]\n",
      "Dimensions of converted array : (5, 2) which is 2-D array\n"
     ]
    }
   ],
   "source": [
    "arr = np.arange(1,11)\n",
    "\n",
    "print('1-D Array :',arr)\n",
    "\n",
    "arr_2 = np.reshape(arr,(-1,2))\n",
    "\n",
    "print('\\n1-D Array converted to 2-D Array :\\n',arr_2)\n",
    "print('Dimensions of converted array :',arr_2.shape,'which is 2-D array')"
   ]
  },
  {
   "cell_type": "markdown",
   "metadata": {},
   "source": [
    "### Questions 5:\n",
    "\n",
    "**Consider two square numpy arrays. Stack them vertically and horizontally.\n",
    "Hint: Use vstack(), hstack()**"
   ]
  },
  {
   "cell_type": "code",
   "execution_count": 6,
   "metadata": {},
   "outputs": [
    {
     "name": "stdout",
     "output_type": "stream",
     "text": [
      "Vertical Stack :\n",
      " [[1 2]\n",
      " [3 4]\n",
      " [5 6]\n",
      " [7 8]]\n",
      "Horizontal Stack :\n",
      " [[1 2 5 6]\n",
      " [3 4 7 8]]\n"
     ]
    }
   ],
   "source": [
    "c = np.array([[1,2],[3,4]])\n",
    "d = np.array([[5,6],[7,8]])\n",
    "print('Vertical Stack :\\n',np.vstack((c,d)))\n",
    "print('Horizontal Stack :\\n',np.hstack((c,d)))"
   ]
  },
  {
   "cell_type": "markdown",
   "metadata": {},
   "source": [
    "### Questions 6:\n",
    "\n",
    "**How to get unique items and counts of unique items?**"
   ]
  },
  {
   "cell_type": "markdown",
   "metadata": {},
   "source": [
    "#### Some methods for to get unique items with examples. Also most used method for counting unique items."
   ]
  },
  {
   "cell_type": "markdown",
   "metadata": {},
   "source": [
    "**1. Using set()**"
   ]
  },
  {
   "cell_type": "code",
   "execution_count": 7,
   "metadata": {},
   "outputs": [
    {
     "name": "stdout",
     "output_type": "stream",
     "text": [
      "Original List : [1, 2, 2, 3, 3, 4, 5]\n",
      "Unique Items from original list : [1, 2, 3, 4, 5]\n",
      "Count Of Unique Items : 5\n"
     ]
    }
   ],
   "source": [
    "lst1 = [1, 2, 2, 3, 3, 4, 5]\n",
    "\n",
    "unique_lst_1 = set(lst1)\n",
    "\n",
    "print('Original List :',lst1)\n",
    "print(\"Unique Items from original list :\",list(unique_lst_1))\n",
    "print(\"Count Of Unique Items :\",len(unique_lst_1))"
   ]
  },
  {
   "cell_type": "markdown",
   "metadata": {},
   "source": [
    "**2.Using Iteration**\n"
   ]
  },
  {
   "cell_type": "code",
   "execution_count": 8,
   "metadata": {},
   "outputs": [
    {
     "name": "stdout",
     "output_type": "stream",
     "text": [
      "Original List : [20, 20, 30, 30, 40]\n",
      "Unique Items from original list : [20, 30, 40]\n",
      "Count Of Unique Items  : 3\n"
     ]
    }
   ],
   "source": [
    "lst2 = [20, 20, 30, 30, 40]\n",
    "unique_lst_2 = []\n",
    "\n",
    "for i in lst2:\n",
    "    if i not in unique_lst_2:\n",
    "        unique_lst_2.append(i)\n",
    "\n",
    "print('Original List :',lst2)\n",
    "print(\"Unique Items from original list :\",unique_lst_2)\n",
    "print(\"Count Of Unique Items  :\",len(unique_lst_2))"
   ]
  }
 ],
 "metadata": {
  "kernelspec": {
   "display_name": "Python 3",
   "language": "python",
   "name": "python3"
  },
  "language_info": {
   "codemirror_mode": {
    "name": "ipython",
    "version": 3
   },
   "file_extension": ".py",
   "mimetype": "text/x-python",
   "name": "python",
   "nbconvert_exporter": "python",
   "pygments_lexer": "ipython3",
   "version": "3.7.6"
  }
 },
 "nbformat": 4,
 "nbformat_minor": 4
}
